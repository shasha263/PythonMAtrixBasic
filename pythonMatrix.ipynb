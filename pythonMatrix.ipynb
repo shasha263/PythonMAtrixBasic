{
 "cells": [
  {
   "cell_type": "markdown",
   "metadata": {},
   "source": [
    "#Using a list to implement matrix (MAnualy and without numpy)"
   ]
  },
  {
   "cell_type": "code",
   "execution_count": 10,
   "metadata": {},
   "outputs": [
    {
     "name": "stdout",
     "output_type": "stream",
     "text": [
      "[[1, 2], [1, 2], [3, 4], [3, 4]]\n"
     ]
    }
   ],
   "source": [
    "r = 2 #int(input(\"Enter number of rows:\"))\n",
    "c = 2 #int(input(\"Enter number of columns:\"))\n",
    "\n",
    "matrix=[]\n",
    "\n",
    "for i in range(r):\n",
    "    row=[]\n",
    "    for j in range(c):\n",
    "       row.append(int(input(\"Enter element of [{}][{}]:\".format(i,j))))\n",
    "       matrix.append(row)\n",
    "print(matrix)\n",
    "\n",
    "# for i in range (r):\n",
    "#    for j in range(c):\n",
    "#        print(matrix[i][j], end=\" \")\n",
    "#    print(\"\")"
   ]
  },
  {
   "cell_type": "markdown",
   "metadata": {},
   "source": [
    "#numpy"
   ]
  },
  {
   "cell_type": "code",
   "execution_count": 14,
   "metadata": {},
   "outputs": [
    {
     "name": "stdout",
     "output_type": "stream",
     "text": [
      "Enter data in single line separated by spaces\n"
     ]
    },
    {
     "ename": "ValueError",
     "evalue": "cannot reshape array of size 0 into shape (3,3)",
     "output_type": "error",
     "traceback": [
      "\u001b[1;31m---------------------------------------------------------------------------\u001b[0m",
      "\u001b[1;31mValueError\u001b[0m                                Traceback (most recent call last)",
      "\u001b[1;32m<ipython-input-14-177094fb0dab>\u001b[0m in \u001b[0;36m<module>\u001b[1;34m\u001b[0m\n\u001b[0;32m      8\u001b[0m \u001b[0mdata\u001b[0m \u001b[1;33m=\u001b[0m \u001b[0mlist\u001b[0m\u001b[1;33m(\u001b[0m\u001b[0mmap\u001b[0m\u001b[1;33m(\u001b[0m\u001b[0mint\u001b[0m\u001b[1;33m,\u001b[0m \u001b[0minput\u001b[0m\u001b[1;33m(\u001b[0m\u001b[1;33m)\u001b[0m\u001b[1;33m.\u001b[0m\u001b[0msplit\u001b[0m\u001b[1;33m(\u001b[0m\u001b[1;33m)\u001b[0m\u001b[1;33m)\u001b[0m\u001b[1;33m)\u001b[0m\u001b[1;33m\u001b[0m\u001b[1;33m\u001b[0m\u001b[0m\n\u001b[0;32m      9\u001b[0m \u001b[1;33m\u001b[0m\u001b[0m\n\u001b[1;32m---> 10\u001b[1;33m \u001b[0mmatrix\u001b[0m \u001b[1;33m=\u001b[0m \u001b[0mnp\u001b[0m\u001b[1;33m.\u001b[0m\u001b[0marray\u001b[0m\u001b[1;33m(\u001b[0m\u001b[0mdata\u001b[0m\u001b[1;33m)\u001b[0m\u001b[1;33m.\u001b[0m\u001b[0mreshape\u001b[0m\u001b[1;33m(\u001b[0m\u001b[0mr\u001b[0m\u001b[1;33m,\u001b[0m\u001b[0mc\u001b[0m\u001b[1;33m)\u001b[0m\u001b[1;33m\u001b[0m\u001b[1;33m\u001b[0m\u001b[0m\n\u001b[0m\u001b[0;32m     11\u001b[0m \u001b[1;33m\u001b[0m\u001b[0m\n\u001b[0;32m     12\u001b[0m \u001b[0mprint\u001b[0m\u001b[1;33m(\u001b[0m\u001b[0mmatrix\u001b[0m\u001b[1;33m)\u001b[0m\u001b[1;33m\u001b[0m\u001b[1;33m\u001b[0m\u001b[0m\n",
      "\u001b[1;31mValueError\u001b[0m: cannot reshape array of size 0 into shape (3,3)"
     ]
    }
   ],
   "source": [
    "import numpy as np\n",
    "\n",
    "r = int(input(\"Enter number of rows:\"))\n",
    "c = int(input(\"Enter number of columns:\"))\n",
    "\n",
    "print(\"Enter data in single line separated by spaces\")\n",
    "\n",
    "data = list(map(int, input().split()))\n",
    "\n",
    "matrix = np.array(data).reshape(r,c)\n",
    "\n",
    "print(matrix)"
   ]
  },
  {
   "cell_type": "markdown",
   "metadata": {},
   "source": [
    "#Using list, create two matrices, perform addition and subtract operation."
   ]
  },
  {
   "cell_type": "code",
   "execution_count": 26,
   "metadata": {},
   "outputs": [
    {
     "name": "stdout",
     "output_type": "stream",
     "text": [
      "First Matrix:\n",
      "[[1 2]\n",
      " [3 4]\n",
      " [6 7]]\n",
      "Second Matrix:\n",
      "[[5 6]\n",
      " [7 8]\n",
      " [9 1]]\n",
      "Addition:\n",
      "[[ 6  8]\n",
      " [10 12]\n",
      " [15  8]]\n",
      "Subtraction:\n",
      "[[-4 -4]\n",
      " [-4 -4]\n",
      " [-3  6]]\n"
     ]
    }
   ],
   "source": [
    "import numpy as np\n",
    "\n",
    "m1 = [[1,2],[3,4],[6,7]]\n",
    "m2 = [[5,6],[7,8],[9,1]]\n",
    "\n",
    "m1 = np.array(m1).reshape(3,2)\n",
    "m2 = np.array(m2).reshape(3,2)\n",
    "\n",
    "print('First Matrix:')\n",
    "print(m1)\n",
    "print('Second Matrix:')\n",
    "print(m2)\n",
    "\n",
    "add= np.add(m1,m2)\n",
    "print('Addition:')\n",
    "print(add)\n",
    "\n",
    "sub= np.subtract(m1,m2)\n",
    "print('Subtraction:')\n",
    "print(sub)\n"
   ]
  },
  {
   "cell_type": "markdown",
   "metadata": {},
   "source": [
    "#Multiplication and Division"
   ]
  },
  {
   "cell_type": "code",
   "execution_count": 34,
   "metadata": {},
   "outputs": [
    {
     "name": "stdout",
     "output_type": "stream",
     "text": [
      "[[1 2 3]\n",
      " [3 4 6]\n",
      " [6 7 1]]\n",
      "[[5 6 9]\n",
      " [7 8 1]\n",
      " [3 4 6]]\n",
      "Multiplication:\n",
      "[[28 34 29]\n",
      " [61 74 67]\n",
      " [82 96 67]]\n",
      "Division:\n",
      "[[0.2        0.33333333 0.33333333]\n",
      " [0.42857143 0.5        6.        ]\n",
      " [2.         1.75       0.16666667]]\n"
     ]
    }
   ],
   "source": [
    "import numpy as np\n",
    "\n",
    "m1 = [[1,2,3],[3,4,6],[6,7,1]]\n",
    "m2 = [[5,6,9],[7,8,1],[3,4,6]]\n",
    "\n",
    "m1 = np.array(m1).reshape(3,3)\n",
    "m2 = np.array(m2).reshape(3,3)\n",
    "\n",
    "print(m1)\n",
    "print(m2)\n",
    "\n",
    "mul = m1.dot(m2)\n",
    "print('Multiplication:')\n",
    "print(mul)\n",
    "\n",
    "div= np.divide(m1,m2)\n",
    "print('Division:')\n",
    "print(div)"
   ]
  }
 ],
 "metadata": {
  "interpreter": {
   "hash": "1912b5ea7f4c5f4c202f824eb56edec823b355814ac90530b8d6527c038d652c"
  },
  "kernelspec": {
   "display_name": "Python 3.8.8 64-bit ('base': conda)",
   "language": "python",
   "name": "python3"
  },
  "language_info": {
   "codemirror_mode": {
    "name": "ipython",
    "version": 3
   },
   "file_extension": ".py",
   "mimetype": "text/x-python",
   "name": "python",
   "nbconvert_exporter": "python",
   "pygments_lexer": "ipython3",
   "version": "3.8.8"
  },
  "orig_nbformat": 4
 },
 "nbformat": 4,
 "nbformat_minor": 2
}
